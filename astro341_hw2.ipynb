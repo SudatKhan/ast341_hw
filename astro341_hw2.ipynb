{
 "cells": [
  {
   "cell_type": "code",
   "execution_count": 1,
   "metadata": {},
   "outputs": [],
   "source": [
    "from math import pi\n",
    "import sympy\n",
    "from sympy import *\n",
    "\n",
    "p= symbols('p')\n",
    "n, v, m, k, T, d, rho = symbols('n v m k T d, rho', real='True', positive='True')"
   ]
  },
  {
   "cell_type": "markdown",
   "metadata": {},
   "source": [
    "Question 1 Part (a):\n",
    "$$\\langle v \\rangle = \\frac{\\int_{-\\infty}^{\\infty} n(v) v\\, d^{3}v}{\\int_{-\\infty}{\\infty} n(v)\\, d^{3}v} = \\frac{1}{n}\\int_{-\\infty}^{\\infty} n(v) v\\, d^{3}v$$\n",
    "Assuming non-relativistic motion, \n",
    "$$p = v m$$\n",
    "$$n(v) d^{3}v \\rightarrow \\frac{4 \\pi v^2 n}{(2 \\pi m k_b T) ^ {3/2}} e^{(-m v^2)/(2 k_b T)}\\, dv$$\n",
    "Thus,\n",
    "$$\\langle v \\rangle = \\frac{1}{n} \\int_{0}^{\\infty} \\frac{4 \\pi v^3 n}{(2 \\pi m k_b T) ^ {3/2}} e^{(-m v^2)/(2 k_b T)}\\, dv$$\n"
   ]
  },
  {
   "cell_type": "code",
   "execution_count": 2,
   "metadata": {},
   "outputs": [
    {
     "data": {
      "text/latex": [
       "$\\displaystyle \\frac{2 \\sqrt{2} \\sqrt{T} \\sqrt{k}}{\\sqrt{\\pi} m^{\\frac{7}{2}}}$"
      ],
      "text/plain": [
       "2*sqrt(2)*sqrt(T)*sqrt(k)/(sqrt(pi)*m**(7/2))"
      ]
     },
     "execution_count": 2,
     "metadata": {},
     "output_type": "execute_result"
    }
   ],
   "source": [
    "average = ((4 * pi * v**3 * n)/((2 * pi * m * k * T)**Rational(3,2))) * exp((-m * v**2)/(2 * k * T))\n",
    "integrate(average / n,(v,0, oo))"
   ]
  },
  {
   "cell_type": "markdown",
   "metadata": {},
   "source": [
    "$$\\langle v \\rangle = \\frac{2 \\sqrt{2} \\sqrt{T} \\sqrt{k_b}}{\\sqrt{\\pi} m^{7/2}}$$"
   ]
  },
  {
   "cell_type": "markdown",
   "metadata": {},
   "source": [
    "Question 1 Part (b):\n",
    "$$P = \\frac{1}{3} \\int n(p)\\, v\\, p\\, d^{3}p$$\n",
    "$$n(p) \\, d^{3}p \\rightarrow \\frac{4 \\pi n}{(2 \\pi m k_{b} T)^{3/2}} p^{2} e^{-p^2 / (2 m k_{b} T)}\\, dp$$\n",
    "We are also assuming non-relativistic motion, and as such,\n",
    "$$v = \\frac{p}{m}$$\n",
    "Putting this all together,\n",
    "$$P = \\frac{1}{3} \\int_{0}^{\\infty} \\frac{4 \\pi n}{(2 \\pi m k_{b} T)^{3/2}} e^{-p^2 / (2 m k_{b} T)} \\frac{p^4}{m}\\, dp$$"
   ]
  },
  {
   "cell_type": "code",
   "execution_count": 3,
   "metadata": {},
   "outputs": [
    {
     "data": {
      "text/latex": [
       "$\\displaystyle T k n$"
      ],
      "text/plain": [
       "T*k*n"
      ]
     },
     "execution_count": 3,
     "metadata": {},
     "output_type": "execute_result"
    }
   ],
   "source": [
    "inner = 4*pi*n *(2*pi*m*k*T)**-Rational(3, 2) * exp(-p**2/(2*m*k*T)) * ((p**4) / m)\n",
    "integrate(inner / 3, (p, 0, oo))"
   ]
  },
  {
   "cell_type": "markdown",
   "metadata": {},
   "source": [
    "Therefore,\n",
    "$$P = n k_{b} T$$"
   ]
  },
  {
   "cell_type": "markdown",
   "metadata": {},
   "source": [
    "Question 1c:\n",
    "The specific internal energy in integral form can be formulated as,\n",
    "$$u = \\frac{1}{\\rho} \\int_{0}^{\\infty} n(p) \\varepsilon (p)\\, dp$$\n",
    "where $\\varepsilon (p)$ is the energy of a particle with momentum $p$,\n",
    "$$\\varepsilon (p) = mc^2 (\\sqrt{1 + \\frac{p^2}{m^2 c^2}} - 1)$$\n",
    "Taking the first term of the Taylor series expansion, under the conditions referring to non-relativistic motion,\n",
    "$$\\varepsilon (p) = \\frac{p^2}{2m}$$\n",
    "The expanded specific internal energy integral can be written as,\n",
    "$$u = \\frac{1}{\\rho} \\int_{0}^{\\infty} \\frac{4 \\pi n}{(2 \\pi m k_{b} T)^{3/2}} e^{-p^2 / (2 m k_{b} T)} \\frac{p^4}{2m}\\, dp$$"
   ]
  },
  {
   "cell_type": "code",
   "execution_count": 4,
   "metadata": {},
   "outputs": [
    {
     "data": {
      "text/latex": [
       "$\\displaystyle \\frac{3 T k n}{2 d}$"
      ],
      "text/plain": [
       "3*T*k*n/(2*d)"
      ]
     },
     "execution_count": 4,
     "metadata": {},
     "output_type": "execute_result"
    }
   ],
   "source": [
    "inner2 = 4*pi*n *(2*pi*m*k*T)**-Rational(3, 2) * exp(-p**2/(2*m*k*T)) * ((p**4) / (2*m))\n",
    "integrate(inner2 / d, (p, 0, oo))"
   ]
  },
  {
   "cell_type": "markdown",
   "metadata": {},
   "source": [
    "Therefore,\n",
    "$$u = \\frac{3 n k_{b} T}{2 \\rho} $$"
   ]
  },
  {
   "cell_type": "markdown",
   "metadata": {},
   "source": [
    "Question 2 Part (a):\n",
    "$$n_{i} = \\frac{X_{i} m_{H} \\rho}{A_{i}}; \\, n_{H} = \\frac{X_{H} m_{H} \\rho}{A_{H}}$$\n",
    "$$\\frac{n_i}{n_H} = \\frac{X_i A_H}{X_H A_i}$$\n",
    "The abundance of elements in the Sun is given by,\n",
    "$$\\mathcal{A_i} = 12 + \\log_{10} (\\frac{n_i}{n_H})$$\n",
    "We can rewrite the abundance formula as,\n",
    "$$10^{\\mathcal{A_i} - 12} = \\frac{X_i A_H}{X_H A_i}$$"
   ]
  },
  {
   "cell_type": "markdown",
   "metadata": {},
   "source": [
    "Let $X_{H} = 0.707$, we can then calculate;\n",
    "$$X_{He} = 0.707 * 4 * 10^{10.99 -12}$$"
   ]
  },
  {
   "cell_type": "code",
   "execution_count": 5,
   "metadata": {},
   "outputs": [
    {
     "data": {
      "text/latex": [
       "$\\displaystyle 0.276362686086303$"
      ],
      "text/plain": [
       "0.276362686086303"
      ]
     },
     "execution_count": 5,
     "metadata": {},
     "output_type": "execute_result"
    }
   ],
   "source": [
    "simplify(10**(10.99-12) * 4 * 0.707)"
   ]
  },
  {
   "cell_type": "markdown",
   "metadata": {},
   "source": [
    "$$X_{He} = 0.276$$"
   ]
  },
  {
   "cell_type": "code",
   "execution_count": 6,
   "metadata": {},
   "outputs": [
    {
     "data": {
      "text/latex": [
       "$\\displaystyle 0.00962807348814528$"
      ],
      "text/plain": [
       "0.00962807348814528"
      ]
     },
     "execution_count": 6,
     "metadata": {},
     "output_type": "execute_result"
    }
   ],
   "source": [
    "simplify(10**(8.93-12) * 16 * 0.707)"
   ]
  },
  {
   "cell_type": "markdown",
   "metadata": {},
   "source": [
    "$$X_{O} = 0.010$$"
   ]
  },
  {
   "cell_type": "code",
   "execution_count": 7,
   "metadata": {},
   "outputs": [
    {
     "data": {
      "text/latex": [
       "$\\displaystyle 0.00308035421666954$"
      ],
      "text/plain": [
       "0.00308035421666954"
      ]
     },
     "execution_count": 7,
     "metadata": {},
     "output_type": "execute_result"
    }
   ],
   "source": [
    "simplify(10**(8.56-12) * 12 * 0.707)"
   ]
  },
  {
   "cell_type": "markdown",
   "metadata": {},
   "source": [
    "$$X_{C} = 0.003$$"
   ]
  },
  {
   "cell_type": "code",
   "execution_count": 8,
   "metadata": {},
   "outputs": [
    {
     "data": {
      "text/latex": [
       "$\\displaystyle 0.00173960004192871$"
      ],
      "text/plain": [
       "0.00173960004192871"
      ]
     },
     "execution_count": 8,
     "metadata": {},
     "output_type": "execute_result"
    }
   ],
   "source": [
    "simplify(10**(8.09-12) * 20 * 0.707)"
   ]
  },
  {
   "cell_type": "markdown",
   "metadata": {},
   "source": [
    "$$X_{Ne} = 0.002$$"
   ]
  },
  {
   "cell_type": "code",
   "execution_count": 9,
   "metadata": {},
   "outputs": [
    {
     "data": {
      "text/latex": [
       "$\\displaystyle 0.00111057386606809$"
      ],
      "text/plain": [
       "0.00111057386606809"
      ]
     },
     "execution_count": 9,
     "metadata": {},
     "output_type": "execute_result"
    }
   ],
   "source": [
    "simplify(10**(8.05-12) * 14 * 0.707)"
   ]
  },
  {
   "cell_type": "markdown",
   "metadata": {},
   "source": [
    "$$X_{N} = 0.001$$"
   ]
  },
  {
   "cell_type": "code",
   "execution_count": 10,
   "metadata": {},
   "outputs": [
    {
     "data": {
      "text/latex": [
       "$\\displaystyle 0.000645105367676728$"
      ],
      "text/plain": [
       "0.000645105367676728"
      ]
     },
     "execution_count": 10,
     "metadata": {},
     "output_type": "execute_result"
    }
   ],
   "source": [
    "simplify(10**(7.58-12) * 24 * 0.707)"
   ]
  },
  {
   "cell_type": "markdown",
   "metadata": {},
   "source": [
    "$$X_{Mg} = 0.0006$$"
   ]
  },
  {
   "cell_type": "code",
   "execution_count": 11,
   "metadata": {},
   "outputs": [
    {
     "data": {
      "text/latex": [
       "$\\displaystyle 0.000702388585326786$"
      ],
      "text/plain": [
       "0.000702388585326786"
      ]
     },
     "execution_count": 11,
     "metadata": {},
     "output_type": "execute_result"
    }
   ],
   "source": [
    "simplify(10**(7.55-12) * 28 * 0.707)"
   ]
  },
  {
   "cell_type": "markdown",
   "metadata": {},
   "source": [
    "$$X_{Si} = 0.0007$$"
   ]
  },
  {
   "cell_type": "code",
   "execution_count": 12,
   "metadata": {},
   "outputs": [
    {
     "data": {
      "text/latex": [
       "$\\displaystyle 0.00137280053831166$"
      ],
      "text/plain": [
       "0.00137280053831166"
      ]
     },
     "execution_count": 12,
     "metadata": {},
     "output_type": "execute_result"
    }
   ],
   "source": [
    "simplify(10**(7.54-12) * 56 * 0.707)"
   ]
  },
  {
   "cell_type": "markdown",
   "metadata": {},
   "source": [
    "$$X_{Fe} = 0.001$$"
   ]
  },
  {
   "cell_type": "code",
   "execution_count": 13,
   "metadata": {},
   "outputs": [
    {
     "data": {
      "text/latex": [
       "$\\displaystyle 0.000366918316426484$"
      ],
      "text/plain": [
       "0.000366918316426484"
      ]
     },
     "execution_count": 13,
     "metadata": {},
     "output_type": "execute_result"
    }
   ],
   "source": [
    "simplify(10**(7.21-12) * 32 * 0.707)"
   ]
  },
  {
   "cell_type": "markdown",
   "metadata": {},
   "source": [
    "$$X_{S} = 0.0004$$"
   ]
  },
  {
   "cell_type": "markdown",
   "metadata": {},
   "source": [
    "Question 2 Part (b):\n",
    "$$\\frac{1}{\\mu_{I}} = X + \\frac{Y}{4} + \\frac{Z}{\\langle \\mathcal{A} \\rangle_{metals}}$$\n",
    "where $\\langle \\mathcal{A} \\rangle_{metals}$ is the mean atomic mass of the metals, which in the Sun is $\\approx$ 20.\n",
    "Since $X = 0.707$, $Y = 0.276$ and $Z = 0.017$,\n",
    "$$\\mu_{I} = \\frac{1}{0.707 + (0.276 / 4) + (0.017 / 20)}$$"
   ]
  },
  {
   "cell_type": "code",
   "execution_count": 14,
   "metadata": {},
   "outputs": [
    {
     "data": {
      "text/latex": [
       "$\\displaystyle 1.28724979082191$"
      ],
      "text/plain": [
       "1.28724979082191"
      ]
     },
     "execution_count": 14,
     "metadata": {},
     "output_type": "execute_result"
    }
   ],
   "source": [
    "simplify(1 / (0.707 + (0.276/4) + (0.017/20)))"
   ]
  },
  {
   "cell_type": "markdown",
   "metadata": {},
   "source": [
    "$$\\mu_{I} = 1.29$$"
   ]
  },
  {
   "cell_type": "markdown",
   "metadata": {},
   "source": [
    "$$\\frac{1}{\\mu_{e}} = X + \\frac{Y}{2} + Z\\langle \\frac{\\mathcal{Z}}{\\mathcal{A}} \\rangle_{metals}$$\n",
    "where $\\langle \\frac{\\mathcal{Z}}{\\mathcal{A}} \\rangle_{metals}$ represents the ratio of protons averaged over all metal atoms, which for the Sun is $\\approx$ $\\frac{1}{2}$.\n",
    "Therefore we can estimate,\n",
    "$$\\frac{1}{\\mu_{e}} \\approx \\frac{1}{2}(X + 1)$$"
   ]
  },
  {
   "cell_type": "code",
   "execution_count": 15,
   "metadata": {},
   "outputs": [
    {
     "data": {
      "text/latex": [
       "$\\displaystyle 1.17164616285882$"
      ],
      "text/plain": [
       "1.17164616285882"
      ]
     },
     "execution_count": 15,
     "metadata": {},
     "output_type": "execute_result"
    }
   ],
   "source": [
    "simplify(1 / (0.5 * (0.707 + 1)))"
   ]
  },
  {
   "cell_type": "markdown",
   "metadata": {},
   "source": [
    "$$\\mu_{e} = 1.17$$"
   ]
  },
  {
   "cell_type": "markdown",
   "metadata": {},
   "source": [
    "We also know that,\n",
    "$$\\frac{1}{\\mu} = \\frac{1}{\\mu_{I}} + \\frac{1}{\\mu_{e}}$$\n",
    "$$\\mu = 0.6135$$"
   ]
  },
  {
   "cell_type": "markdown",
   "metadata": {},
   "source": [
    "Question 3 Part (a):\n",
    "For an Ideal Gas, electron pressure can be formulated as,\n",
    "$$P_{e} = \\frac{\\mathcal{R}}{\\mu_{e}} \\rho T$$\n",
    "For a degenerate gas, electron degeneracy pressure is,\n",
    "$$P_{e, deg} = \\frac{h^2}{20 m_{e}} (\\frac{3}{\\pi})^{2/3} \\frac{1}{m_{H}\\, ^{5/3}} (\\frac{\\rho}{\\mu_{e}})^{5/3}$$\n",
    "We can also see that since the star has no hydrogen or helium present, \n",
    "$$\\mu_{e} \\approx \\frac{1}{2}(1 + X) \\rightarrow \\mu_{e} \\approx 2$$\n",
    "Plugging in and then simplifying we have,\n",
    "$$P_{e} = 4.157 \\times 10^{10} \\rho$$\n",
    "$$P_{e, deg} = 1.00315 \\times 10^{7} (\\frac{\\rho}{2})^{5/3}$$\n",
    "$$4.157 \\times 10^{10} \\rho = 1.00315 \\times 10^{7} (\\frac{\\rho}{2})^{5/3}$$\n",
    "$$7.11605 \\times 10^{10} \\rho^{3} =\\frac{\\rho^{5}}{32}$$\n",
    "Thus,\n",
    "$$\\rho = 1.50902 \\times 10^6 \\frac{kg}{m^3}$$"
   ]
  },
  {
   "cell_type": "markdown",
   "metadata": {},
   "source": [
    "Question 4 Part (a):\n",
    "$$e_{gas} = \\frac{3 \\beta P}{2 \\rho}; \\, e_{\\gamma} = 3 (1 - \\beta) \\frac{P}{\\rho}$$"
   ]
  },
  {
   "cell_type": "markdown",
   "metadata": {},
   "source": [
    "Question 4 Part (b):\n",
    "$$U = \\frac{3}{2} \\int (2- \\beta) \\frac{P}{\\rho}\\, dm$$"
   ]
  },
  {
   "cell_type": "markdown",
   "metadata": {},
   "source": [
    "Question 4 Part (c):\n",
    "$$\\frac{P}{\\rho} = \\frac{2}{3(2-\\beta)}(u_{gas} + u_{\\gamma}$$\n",
    "$$U = -3 \\int \\frac{P}{\\rho}\\, dm = - \\frac{2}{(2 - \\beta)} \\int (u_{gas} + u_{\\gamma})\\, dm = - \\frac{2}{(2 - \\beta)} U$$"
   ]
  }
 ],
 "metadata": {
  "kernelspec": {
   "display_name": "Python 3.8.10 64-bit",
   "language": "python",
   "name": "python3"
  },
  "language_info": {
   "codemirror_mode": {
    "name": "ipython",
    "version": 3
   },
   "file_extension": ".py",
   "mimetype": "text/x-python",
   "name": "python",
   "nbconvert_exporter": "python",
   "pygments_lexer": "ipython3",
   "version": "3.8.10"
  },
  "orig_nbformat": 4,
  "vscode": {
   "interpreter": {
    "hash": "916dbcbb3f70747c44a77c7bcd40155683ae19c65e1c03b4aa3499c5328201f1"
   }
  }
 },
 "nbformat": 4,
 "nbformat_minor": 2
}
