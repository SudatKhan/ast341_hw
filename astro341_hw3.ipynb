{
 "cells": [
  {
   "cell_type": "code",
   "execution_count": 6,
   "metadata": {},
   "outputs": [],
   "source": [
    "from math import pi\n",
    "import sympy\n",
    "from sympy import *\n",
    "\n",
    "r, R_c = symbols('r R_c', real='True', positive='True')"
   ]
  },
  {
   "cell_type": "markdown",
   "metadata": {},
   "source": [
    "Question 1:\n",
    "$$\\rho = 150 \\frac{g}{cm^{3}}$$\n",
    "$$T = 1.50 \\times 10^{7} \\, K$$\n",
    "$$X \\approx 0.7$$\n",
    "The energy producing region of the Sun (the \"core\") extends from $r = 0$ to $r= R_{c}$. The energy from the core comes completely from the $p - p$ chain with an energy generation rate:\n",
    "$$q_{pp} = \\frac{2.4 \\times 10^{4} \\rho X^{2}}{T_{9}^{2/3}} e^{-3.380/{T_{9}^{1/3}}}$$\n",
    "$$L_{nuc} = \\int_{0}^{M} q\\, dm$$\n",
    "$$L_{nuc} = 4 \\pi \\rho \\int_{0}^{R_c} q r^{2}\\, dr \\rightarrow \\frac{9.6 \\times 10^{4} \\rho^{2} X^{2} \\pi}{T_{9}^{2/3}} e^{-3.380/{T_{9}^{1/3}}} \\int_{0}^{R_c} r^{2}\\, dr$$"
   ]
  },
  {
   "cell_type": "code",
   "execution_count": 5,
   "metadata": {},
   "outputs": [
    {
     "data": {
      "text/latex": [
       "$\\displaystyle 19430.4958007566 \\pi$"
      ],
      "text/plain": [
       "19430.4958007566*pi"
      ]
     },
     "execution_count": 5,
     "metadata": {},
     "output_type": "execute_result"
    }
   ],
   "source": [
    "simplify((9.6 * 10**4 * 150**2 * 0.7**2 * pi)/((0.015)**Rational(2,3)) * exp((-3.380)/((0.015)**Rational(1,3))))"
   ]
  },
  {
   "cell_type": "code",
   "execution_count": 7,
   "metadata": {},
   "outputs": [
    {
     "data": {
      "text/latex": [
       "$\\displaystyle \\frac{R_{c}^{3}}{3}$"
      ],
      "text/plain": [
       "R_c**3/3"
      ]
     },
     "execution_count": 7,
     "metadata": {},
     "output_type": "execute_result"
    }
   ],
   "source": [
    "integrate(r**2,(r,0, R_c))"
   ]
  },
  {
   "cell_type": "markdown",
   "metadata": {},
   "source": [
    "$$L_{nuc} = 19430.5 \\pi [\\frac{R_{c}^{3}}{3}]$$\n",
    "We know that the Sun's luminosity is, $L = 3.826 \\times 10^{33}$ ergs/second:\n",
    "$$3.826 \\times 10^{33} = \\frac{19430.5 R_{c}^{3} \\pi}{3}$$"
   ]
  },
  {
   "cell_type": "code",
   "execution_count": 13,
   "metadata": {},
   "outputs": [
    {
     "data": {
      "text/latex": [
       "$\\displaystyle 5728981992.02917$"
      ],
      "text/plain": [
       "5728981992.02917"
      ]
     },
     "execution_count": 13,
     "metadata": {},
     "output_type": "execute_result"
    }
   ],
   "source": [
    "x = simplify((3.826 * 10**33 * 3)/ (19430.5 * 3.14159265358))\n",
    "simplify(x**(Rational(1,3)))"
   ]
  },
  {
   "cell_type": "markdown",
   "metadata": {},
   "source": [
    "Therefore,\n",
    "$$R_{c} = 5.72898 \\times 10^{9}\\, cm$$"
   ]
  },
  {
   "cell_type": "markdown",
   "metadata": {},
   "source": [
    "Question 2 Part(a):\n",
    "$$^{16}_{8}O + ^{16}_{8}O \\rightarrow ^{31}_{16}S + n$$\n",
    "Conservation of baryon number"
   ]
  },
  {
   "cell_type": "markdown",
   "metadata": {},
   "source": [
    "Question 2 Part(b):\n",
    "$$^{16}_{8}O + ^{16}_{8}O \\rightarrow ^{32}_{16}S + \\gamma$$\n",
    "Conservation of momentum"
   ]
  },
  {
   "cell_type": "markdown",
   "metadata": {},
   "source": [
    "Question 2 Part(c):\n",
    "$$^7_4Be + e^- \\rightarrow ^7_3Li + \\nu$$\n",
    "Conservation of lepton number"
   ]
  },
  {
   "cell_type": "markdown",
   "metadata": {},
   "source": [
    "Question 2 Part(d):\n",
    "$$^{15}_{8}O \\rightarrow ^{15}_{7}N + p + \\nu$$\n",
    "Conservation of baryon number"
   ]
  },
  {
   "cell_type": "markdown",
   "metadata": {},
   "source": [
    "Question 4 Part(a):\n",
    "$$\\lambda = \\frac{h}{p};\\, p = \\mu_{p} * \\sqrt{\\frac{3 k_{b} T}{\\mu_{p}}}$$"
   ]
  },
  {
   "cell_type": "code",
   "execution_count": 23,
   "metadata": {},
   "outputs": [
    {
     "data": {
      "text/latex": [
       "$\\displaystyle 9.20157973340926 \\cdot 10^{-13}$"
      ],
      "text/plain": [
       "9.20157973340926e-13"
      ]
     },
     "execution_count": 23,
     "metadata": {},
     "output_type": "execute_result"
    }
   ],
   "source": [
    "simplify((6.626 * 10**(-34)) / (8.35 * 10**(-28) * ((3 * 1.38*10**(-23) * 1.5 * 10**7)/(8.35 * 10**(-28)))**Rational(1,2)))"
   ]
  },
  {
   "cell_type": "markdown",
   "metadata": {},
   "source": [
    "Therefore,\n",
    "$$\\lambda = 9.202 \\times 10^{-13}\\, m$$"
   ]
  },
  {
   "cell_type": "markdown",
   "metadata": {},
   "source": [
    "Question 4 Part(b):\n",
    "$$P \\approx e^{\\frac{-r_{0}}{\\lambda}} \\rightarrow P \\approx e^{-constant / v}$$\n",
    "$$T_{1} = 10^{7}\\, K;\\, T_{2} = 1.5 \\times 10^{7}\\, K$$"
   ]
  },
  {
   "cell_type": "code",
   "execution_count": 27,
   "metadata": {},
   "outputs": [
    {
     "data": {
      "text/latex": [
       "$\\displaystyle 0.999999739392343$"
      ],
      "text/plain": [
       "0.999999739392343"
      ]
     },
     "execution_count": 27,
     "metadata": {},
     "output_type": "execute_result"
    }
   ],
   "source": [
    "velocity_1 = simplify(((3 * 1.38*10**(-23) * 1 * 10**7)/(8.35 * 10**(-28)))**Rational(1,2))\n",
    "velocity_2 = simplify(((3 * 1.38*10**(-23) * 1.5 * 10**7)/(8.35 * 10**(-28)))**Rational(1,2))\n",
    "simplify((exp(-1 / velocity_1))/(exp(-1/ velocity_2)))"
   ]
  },
  {
   "cell_type": "markdown",
   "metadata": {},
   "source": [
    "Thus,\n",
    "$$\\frac{P_1}{P_2} = \\frac{e^{-1/v_1}}{e^{-1/v_2}} = 0.9999$$"
   ]
  }
 ],
 "metadata": {
  "kernelspec": {
   "display_name": "Python 3.8.10 64-bit",
   "language": "python",
   "name": "python3"
  },
  "language_info": {
   "codemirror_mode": {
    "name": "ipython",
    "version": 3
   },
   "file_extension": ".py",
   "mimetype": "text/x-python",
   "name": "python",
   "nbconvert_exporter": "python",
   "pygments_lexer": "ipython3",
   "version": "3.8.10"
  },
  "orig_nbformat": 4,
  "vscode": {
   "interpreter": {
    "hash": "916dbcbb3f70747c44a77c7bcd40155683ae19c65e1c03b4aa3499c5328201f1"
   }
  }
 },
 "nbformat": 4,
 "nbformat_minor": 2
}
