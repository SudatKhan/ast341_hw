{
 "cells": [
  {
   "cell_type": "code",
   "execution_count": 2,
   "metadata": {},
   "outputs": [],
   "source": [
    "from math import pi\n",
    "import sympy\n",
    "from sympy import *\n",
    "import numpy as np\n",
    "from matplotlib import pyplot as plt\n",
    "\n",
    "r, R = symbols('r, R', real='True', positive='True')"
   ]
  },
  {
   "cell_type": "markdown",
   "metadata": {},
   "source": [
    "Question 1, Part (a):\n",
    "$$\\frac{dT}{dr} = (1 - \\frac{1}{\\gamma_{a}}) \\frac{T}{P} \\frac{dP}{dr}$$\n",
    "$$\\frac{dT}{dr} = -(1 - \\frac{1}{\\gamma_{a}}) \\frac{T}{P} \\frac{G M \\rho}{r^{2}}$$\n",
    "Since gas is ideal, using ideal gas law we get:\n",
    "$$P = \\frac{\\mathcal{R}}{\\mu} \\rho T \\Rightarrow \\frac{dT}{dr} = (-1 + \\frac{1}{\\gamma_{a}}) \\frac{\\mu}{\\mathcal{R}}\\frac{G M}{r^2}$$\n",
    "$$T(R) - T(0.7 R) = (-1 + \\frac{1}{\\gamma_{a}}) \\frac{\\mu}{\\mathcal{R}}G M \\int_{0.7 R}^{R} \\frac{1}{r^2}\\, dr$$"
   ]
  },
  {
   "cell_type": "code",
   "execution_count": 31,
   "metadata": {},
   "outputs": [
    {
     "data": {
      "text/latex": [
       "$\\displaystyle \\frac{0.428571428571429}{R}$"
      ],
      "text/plain": [
       "0.428571428571429/R"
      ]
     },
     "execution_count": 31,
     "metadata": {},
     "output_type": "execute_result"
    }
   ],
   "source": [
    "integrate((1 / (r**2)), (r, 0.7*R, R))"
   ]
  },
  {
   "cell_type": "markdown",
   "metadata": {},
   "source": [
    "Thus,\n",
    "$$T(R) - T(0.7 R) = (\\frac{0.4286}{\\gamma_{a}} - 0.4286) \\frac{G M \\mu}{\\mathcal{R} R}$$"
   ]
  },
  {
   "cell_type": "markdown",
   "metadata": {},
   "source": [
    "Question 1, Part(b):\n",
    "$$T(R) - T(0.7 R) = (-0.4286 + \\frac{0.4286}{\\gamma_{a}}) \\frac{G M \\mu}{\\mathcal{R} R}$$\n",
    "Assuming temperature of the Sun at the surface ($T(R)$) is 5,778 K and that $\\mu = 0.6135$:\n",
    "$$5778 - T(0.7 R) = (-0.4286 + \\frac{0.4286}{1.667})\\frac{0.6135 G M}{\\mathcal{R} R}$$\n"
   ]
  },
  {
   "cell_type": "code",
   "execution_count": 40,
   "metadata": {},
   "outputs": [
    {
     "data": {
      "text/latex": [
       "$\\displaystyle -2489587.20199657$"
      ],
      "text/plain": [
       "-2489587.20199657"
      ]
     },
     "execution_count": 40,
     "metadata": {},
     "output_type": "execute_result"
    }
   ],
   "source": [
    "simplify(-(0.4286 - 0.4286/1.667) * ((0.6315 * 6.67 * 10**-11 * 1.989 * 10**30)/(8.3145*10**3 * 6.957*10**8)) - 5778)"
   ]
  },
  {
   "cell_type": "markdown",
   "metadata": {},
   "source": [
    "Thus,\n",
    "$$T(0.7 R) = 2,489,587 \\, K$$"
   ]
  },
  {
   "cell_type": "code",
   "execution_count": 63,
   "metadata": {},
   "outputs": [
    {
     "data": {
      "text/plain": [
       "[<matplotlib.lines.Line2D at 0x7fe23e0fac70>]"
      ]
     },
     "execution_count": 63,
     "metadata": {},
     "output_type": "execute_result"
    },
    {
     "data": {
      "image/png": "[encoded data removed]",
      "text/plain": [
       "<Figure size 864x360 with 1 Axes>"
      ]
     },
     "metadata": {
      "needs_background": "light"
     },
     "output_type": "display_data"
    }
   ],
   "source": [
    "def rho(T):\n",
    "    return (10**3 * (T / (10**9))**(2/3)) / (11760 * np.exp(-3.38/(T/(10**9))**(1/3)) + 9.25*10**23 * np.exp(-15.228/(T/(10**9))**(1/3)))\n",
    "\n",
    "T = np.linspace(0.5*10**7, 2.55*10**7, 100)\n",
    "\n",
    "fig = plt.figure(figsize=(12,5))\n",
    "plt.plot(T, rho(T), c='red')"
   ]
  },
  {
   "cell_type": "code",
   "execution_count": 64,
   "metadata": {},
   "outputs": [
    {
     "data": {
      "text/plain": [
       "[<matplotlib.lines.Line2D at 0x7fe23e0df1c0>]"
      ]
     },
     "execution_count": 64,
     "metadata": {},
     "output_type": "execute_result"
    },
    {
     "data": {
      "image/png": "[encoded data removed]",
      "text/plain": [
       "<Figure size 864x360 with 1 Axes>"
      ]
     },
     "metadata": {
      "needs_background": "light"
     },
     "output_type": "display_data"
    }
   ],
   "source": [
    "def rho_h(T):\n",
    "    return np.sqrt((10**3) / (5.09*10**11 * (T/10**8)**(-3) * np.exp(-44.027/(T/10**8))))\n",
    "T = np.linspace(10**8, 2.55*10**8, 100)\n",
    "\n",
    "fig = plt.figure(figsize=(12,5))\n",
    "plt.plot(T, rho_h(T), c='blue')"
   ]
  }
 ],
 "metadata": {
  "kernelspec": {
   "display_name": "Python 3.8.10 64-bit",
   "language": "python",
   "name": "python3"
  },
  "language_info": {
   "codemirror_mode": {
    "name": "ipython",
    "version": 3
   },
   "file_extension": ".py",
   "mimetype": "text/x-python",
   "name": "python",
   "nbconvert_exporter": "python",
   "pygments_lexer": "ipython3",
   "version": "3.8.10"
  },
  "orig_nbformat": 4,
  "vscode": {
   "interpreter": {
    "hash": "916dbcbb3f70747c44a77c7bcd40155683ae19c65e1c03b4aa3499c5328201f1"
   }
  }
 },
 "nbformat": 4,
 "nbformat_minor": 2
}
