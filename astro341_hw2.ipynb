{
 "cells": [
  {
   "cell_type": "code",
   "execution_count": 9,
   "metadata": {},
   "outputs": [],
   "source": [
    "from math import pi\n",
    "import sympy\n",
    "from sympy import *\n",
    "\n",
    "p= symbols('p')\n",
    "n, m, k, T, d = symbols('n m k T d', real='True', positive='True')"
   ]
  },
  {
   "cell_type": "markdown",
   "metadata": {},
   "source": [
    "Part (b):\n",
    "$$P = \\frac{1}{3} \\int n(p)\\, v\\, p\\, d^{3}p$$\n",
    "$$n(p) \\, d^{3}p \\rightarrow \\frac{4 \\pi n}{(2 \\pi m k_{b} T)^{3/2}} p^{2} e^{-p^2 / (2 m k_{b} T)}\\, dp$$\n",
    "We are also assuming non-relativistic motion, and as such,\n",
    "$$v = \\frac{p}{m}$$\n",
    "Putting this all together,\n",
    "$$P = \\frac{1}{3} \\int_{0}^{\\infty} \\frac{4 \\pi n}{(2 \\pi m k_{b} T)^{3/2}} e^{-p^2 / (2 m k_{b} T)} \\frac{p^4}{m}\\, dp$$"
   ]
  },
  {
   "cell_type": "code",
   "execution_count": 10,
   "metadata": {},
   "outputs": [
    {
     "data": {
      "text/latex": [
       "$\\displaystyle T k n$"
      ],
      "text/plain": [
       "T*k*n"
      ]
     },
     "execution_count": 10,
     "metadata": {},
     "output_type": "execute_result"
    }
   ],
   "source": [
    "inner = 4*pi*n *(2*pi*m*k*T)**-Rational(3, 2) * exp(-p**2/(2*m*k*T)) * ((p**4) / m)\n",
    "integrate(inner / 3, (p, 0, oo))"
   ]
  },
  {
   "cell_type": "markdown",
   "metadata": {},
   "source": [
    "Therefore,\n",
    "$$P = n k_{b} T$$"
   ]
  },
  {
   "cell_type": "markdown",
   "metadata": {},
   "source": [
    "Question 1c:\n",
    "The specific internal energy in integral form can be formulated as,\n",
    "$$u = \\frac{1}{\\rho} \\int_{0}^{\\infty} n(p) \\varepsilon (p)\\, dp$$\n",
    "where $\\varepsilon (p)$ is the energy of a particle with momentum $p$,\n",
    "$$\\varepsilon (p) = mc^2 (\\sqrt{1 + \\frac{p^2}{m^2 c^2}} - 1)$$\n",
    "Taking the first term of the Taylor series expansion, under the conditions referring to non-relativistic motion,\n",
    "$$\\varepsilon (p) = \\frac{p^2}{2m}$$\n",
    "The expanded specific internal energy integral can be written as,\n",
    "$$u = \\frac{1}{\\rho} \\int_{0}^{\\infty} \\frac{4 \\pi n}{(2 \\pi m k_{b} T)^{3/2}} e^{-p^2 / (2 m k_{b} T)} \\frac{p^4}{2m}\\, dp$$"
   ]
  },
  {
   "cell_type": "code",
   "execution_count": 11,
   "metadata": {},
   "outputs": [
    {
     "data": {
      "text/latex": [
       "$\\displaystyle \\frac{3 T k n}{2 d}$"
      ],
      "text/plain": [
       "3*T*k*n/(2*d)"
      ]
     },
     "execution_count": 11,
     "metadata": {},
     "output_type": "execute_result"
    }
   ],
   "source": [
    "inner2 = 4*pi*n *(2*pi*m*k*T)**-Rational(3, 2) * exp(-p**2/(2*m*k*T)) * ((p**4) / (2*m))\n",
    "integrate(inner2 / d, (p, 0, oo))"
   ]
  },
  {
   "cell_type": "markdown",
   "metadata": {},
   "source": [
    "Therefore,\n",
    "$$u = \\frac{3 n k_{b} T}{2 \\rho} $$"
   ]
  }
 ],
 "metadata": {
  "kernelspec": {
   "display_name": "Python 3.8.10 64-bit",
   "language": "python",
   "name": "python3"
  },
  "language_info": {
   "codemirror_mode": {
    "name": "ipython",
    "version": 3
   },
   "file_extension": ".py",
   "mimetype": "text/x-python",
   "name": "python",
   "nbconvert_exporter": "python",
   "pygments_lexer": "ipython3",
   "version": "3.8.10"
  },
  "orig_nbformat": 4,
  "vscode": {
   "interpreter": {
    "hash": "916dbcbb3f70747c44a77c7bcd40155683ae19c65e1c03b4aa3499c5328201f1"
   }
  }
 },
 "nbformat": 4,
 "nbformat_minor": 2
}
