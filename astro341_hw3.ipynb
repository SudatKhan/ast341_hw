{
 "cells": [
  {
   "cell_type": "code",
   "execution_count": null,
   "metadata": {},
   "outputs": [],
   "source": [
    "from math import pi\n",
    "import sympy\n",
    "from sympy import *\n",
    "\n"
   ]
  },
  {
   "cell_type": "markdown",
   "metadata": {},
   "source": [
    "Question 1:\n",
    "$$\\rho = 150 \\frac{g}{cm^{3}}$$\n",
    "$$T = 1.50 \\times 10^{7} \\, K$$\n",
    "$$X \\approx 0.7$$\n",
    "The energy producing region of the Sun (the \"core\") extends from $r = 0$ to $r= R_{c}$. The energy from the core comes completely from the $p - p$ chain with an energy generation rate:\n",
    "$$q_{pp} = \\frac{2.4 \\times 10^{4} \\rho X^{2}}{T_{9}^{2/3}} e^{-3.380/{T_{9}^{1/3}}}$$\n",
    "$$q_{pp} = \\frac{2.4 \\times 10^{4} (150) (0.7)^{2}}{(\\frac{1.5 \\times 10^7}{10^9})^{2/3}} e^{-3.380}$$"
   ]
  }
 ],
 "metadata": {
  "kernelspec": {
   "display_name": "Python 3.8.10 64-bit",
   "language": "python",
   "name": "python3"
  },
  "language_info": {
   "name": "python",
   "version": "3.8.10"
  },
  "orig_nbformat": 4,
  "vscode": {
   "interpreter": {
    "hash": "916dbcbb3f70747c44a77c7bcd40155683ae19c65e1c03b4aa3499c5328201f1"
   }
  }
 },
 "nbformat": 4,
 "nbformat_minor": 2
}
